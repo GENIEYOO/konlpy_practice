{
 "cells": [
  {
   "cell_type": "code",
   "execution_count": 1,
   "metadata": {},
   "outputs": [
    {
     "data": {
      "text/plain": [
       "['constitution.txt']"
      ]
     },
     "execution_count": 1,
     "metadata": {},
     "output_type": "execute_result"
    }
   ],
   "source": [
    "from konlpy.corpus import kolaw\n",
    "kolaw.fileids()"
   ]
  },
  {
   "cell_type": "code",
   "execution_count": 2,
   "metadata": {},
   "outputs": [
    {
     "name": "stdout",
     "output_type": "stream",
     "text": [
      "대한민국헌법\n",
      "\n",
      "유구한 역사와 전통에 빛나는 우리 대한국민은 3·1운동으로 건립된 대한민국임시정부의 법통과 불의에 항거한 4·19민주이념을 계승하고, 조국의 민주개혁과 평화적 통일의\n"
     ]
    }
   ],
   "source": [
    "c = kolaw.open('constitution.txt').read()\n",
    "print(c[:100])"
   ]
  },
  {
   "cell_type": "code",
   "execution_count": 3,
   "metadata": {},
   "outputs": [
    {
     "data": {
      "text/plain": [
       "['1809890.txt',\n",
       " '1809891.txt',\n",
       " '1809892.txt',\n",
       " '1809893.txt',\n",
       " '1809894.txt',\n",
       " '1809895.txt',\n",
       " '1809896.txt',\n",
       " '1809897.txt',\n",
       " '1809898.txt',\n",
       " '1809899.txt']"
      ]
     },
     "execution_count": 3,
     "metadata": {},
     "output_type": "execute_result"
    }
   ],
   "source": [
    "from konlpy.corpus import kobill\n",
    "kobill.fileids()"
   ]
  },
  {
   "cell_type": "code",
   "execution_count": 4,
   "metadata": {},
   "outputs": [
    {
     "name": "stdout",
     "output_type": "stream",
     "text": [
      "지방공무원법 일부개정법률안\n",
      "\n",
      "(정의화의원 대표발의 )\n",
      "\n",
      " 의 안\n",
      " 번 호\n",
      "\n",
      "9890\n",
      "\n",
      "발의연월일 : 2010.  11.  12.  \n",
      "\n",
      "발  의  자 : 정의화․이명수․김을동 \n",
      "\n",
      "이\n"
     ]
    }
   ],
   "source": [
    "d = kobill.open('1809890.txt').read()\n",
    "print(d[:100])"
   ]
  },
  {
   "cell_type": "code",
   "execution_count": 5,
   "metadata": {
    "collapsed": true
   },
   "outputs": [],
   "source": [
    "\n",
    "from konlpy.tag import *\n",
    "hannanum = Hannanum()\n",
    "kkma = Kkma()\n",
    "twitter = Twitter()"
   ]
  },
  {
   "cell_type": "markdown",
   "metadata": {},
   "source": [
    "한나눔이 제일 정확도가 높은듯"
   ]
  },
  {
   "cell_type": "markdown",
   "metadata": {},
   "source": [
    "그냥 뽑으면 array로 코드값나옴 array안에 있는 것을 for문으로 돌려서 하나씩 뽑아줘야함"
   ]
  },
  {
   "cell_type": "code",
   "execution_count": 6,
   "metadata": {},
   "outputs": [
    {
     "name": "stdout",
     "output_type": "stream",
     "text": [
      "대한민국헌법\n",
      "유구\n",
      "역사\n",
      "전통\n",
      "빛\n",
      "우리\n",
      "대한국민\n",
      "3·1운동\n",
      "건립\n",
      "대한민국임시정부\n",
      "법통\n",
      "불의\n",
      "항거\n"
     ]
    }
   ],
   "source": [
    "a =hannanum.nouns(c[:65])\n",
    "for i in a:\n",
    "    print i"
   ]
  },
  {
   "cell_type": "code",
   "execution_count": 7,
   "metadata": {},
   "outputs": [
    {
     "name": "stdout",
     "output_type": "stream",
     "text": [
      "대한\n",
      "대한민국\n",
      "대한민국헌법\n",
      "민국\n",
      "헌법\n",
      "유구\n",
      "역사\n",
      "전통\n",
      "우리\n",
      "국민\n",
      "3\n",
      "1\n",
      "1운동\n",
      "운동\n",
      "건립\n",
      "대한민국임시정부\n",
      "임시\n",
      "정부\n",
      "법통\n",
      "불의\n",
      "항거\n"
     ]
    }
   ],
   "source": [
    "b = kkma.nouns(c[:65])\n",
    "for i in b:\n",
    "    print i"
   ]
  },
  {
   "cell_type": "code",
   "execution_count": 8,
   "metadata": {},
   "outputs": [
    {
     "name": "stdout",
     "output_type": "stream",
     "text": [
      "대한민국\n",
      "헌법\n",
      "유구\n",
      "역사\n",
      "전통\n",
      "우리\n",
      "대한\n",
      "국민\n",
      "운동\n",
      "건립\n",
      "대한민국\n",
      "임시정부\n",
      "법\n",
      "통과\n",
      "불의\n",
      "항거\n"
     ]
    }
   ],
   "source": [
    "c = twitter.nouns(c[:65])\n",
    "for i in c:\n",
    "    print i"
   ]
  },
  {
   "cell_type": "code",
   "execution_count": 16,
   "metadata": {
    "collapsed": true
   },
   "outputs": [],
   "source": [
    "#형태소 추출"
   ]
  },
  {
   "cell_type": "code",
   "execution_count": 10,
   "metadata": {},
   "outputs": [
    {
     "data": {
      "text/plain": [
       "['constitution.txt']"
      ]
     },
     "execution_count": 10,
     "metadata": {},
     "output_type": "execute_result"
    }
   ],
   "source": [
    "from konlpy.corpus import kolaw\n",
    "kolaw.fileids()"
   ]
  },
  {
   "cell_type": "code",
   "execution_count": 12,
   "metadata": {},
   "outputs": [
    {
     "name": "stdout",
     "output_type": "stream",
     "text": [
      "대한민국헌법\n",
      "\n",
      "유구한 역사와 전통에 빛나는 우리 대한국민은 3·1운동으로 건립된 대한민국임시정부의 법통과 불의에 항거한 4·19민주이념을 계승하고, 조국의 민주개혁과 평화적 통일의\n"
     ]
    }
   ],
   "source": [
    "c = kolaw.open('constitution.txt').read()\n",
    "print(c[:100])"
   ]
  },
  {
   "cell_type": "code",
   "execution_count": 14,
   "metadata": {},
   "outputs": [
    {
     "name": "stdout",
     "output_type": "stream",
     "text": [
      "대한민국헌법\n",
      "유구\n",
      "하\n",
      "ㄴ\n",
      "역사\n",
      "와\n",
      "전통\n",
      "에\n",
      "빛\n",
      "나는\n",
      "우리\n",
      "대한국민\n",
      "은\n",
      "3·1운동\n",
      "으로\n",
      "건립\n",
      "되\n",
      "ㄴ\n",
      "대한민국임시정부\n",
      "의\n",
      "법통\n",
      "과\n",
      "불의\n",
      "에\n",
      "항거\n"
     ]
    }
   ],
   "source": [
    "A = hannanum.morphs(c[:65])\n",
    "for i in A:\n",
    "     print i"
   ]
  },
  {
   "cell_type": "code",
   "execution_count": 15,
   "metadata": {},
   "outputs": [
    {
     "name": "stdout",
     "output_type": "stream",
     "text": [
      "대한민국\n",
      "헌법\n",
      "유구\n",
      "하\n",
      "ㄴ\n",
      "역사\n",
      "와\n",
      "전통\n",
      "에\n",
      "빛나\n",
      "는\n",
      "우리\n",
      "대하\n",
      "ㄴ\n",
      "국민\n",
      "은\n",
      "3\n",
      "·\n",
      "1\n",
      "운동\n",
      "으로\n",
      "건립\n",
      "되\n",
      "ㄴ\n",
      "대한민국\n",
      "임시\n",
      "정부\n",
      "의\n",
      "법통\n",
      "과\n",
      "불의\n",
      "에\n",
      "항거\n"
     ]
    }
   ],
   "source": [
    "B = kkma.morphs(c[:65])\n",
    "for i in B:\n",
    "    print i"
   ]
  },
  {
   "cell_type": "code",
   "execution_count": 16,
   "metadata": {},
   "outputs": [
    {
     "name": "stdout",
     "output_type": "stream",
     "text": [
      "대한민국\n",
      "헌법\n",
      "유구\n",
      "한\n",
      "역사\n",
      "와\n",
      "전통\n",
      "에\n",
      "빛나는\n",
      "우리\n",
      "대한\n",
      "국민\n",
      "은\n",
      "3\n",
      "·\n",
      "1\n",
      "운동\n",
      "으로\n",
      "건립\n",
      "된\n",
      "대한민국\n",
      "임시정부\n",
      "의\n",
      "법\n",
      "통과\n",
      "불의\n",
      "에\n",
      "항거\n"
     ]
    }
   ],
   "source": [
    "C = twitter.morphs(c[:65])\n",
    "for i in C:\n",
    "    print i"
   ]
  },
  {
   "cell_type": "code",
   "execution_count": 21,
   "metadata": {
    "collapsed": true
   },
   "outputs": [],
   "source": [
    "#한나눔 정확도 굿"
   ]
  },
  {
   "cell_type": "code",
   "execution_count": 22,
   "metadata": {},
   "outputs": [
    {
     "name": "stdout",
     "output_type": "stream",
     "text": [
      "대한민국헌법\n",
      "\n",
      "유구한 역사와 전통에 빛나는 우리 대한국민은 3·1운동으로 건립된 대한민국임시정부의 법통과 불의에 항거한 4·19민주이념을 계승하고, 조국의 민주개혁과 평화적 통일의\n"
     ]
    }
   ],
   "source": [
    "c = kolaw.open('constitution.txt').read()\n",
    "print(c[:100])"
   ]
  },
  {
   "cell_type": "code",
   "execution_count": null,
   "metadata": {
    "collapsed": true
   },
   "outputs": [],
   "source": []
  },
  {
   "cell_type": "code",
   "execution_count": null,
   "metadata": {
    "collapsed": true
   },
   "outputs": [],
   "source": []
  }
 ],
 "metadata": {
  "kernelspec": {
   "display_name": "Python 2",
   "language": "python",
   "name": "python2"
  },
  "language_info": {
   "codemirror_mode": {
    "name": "ipython",
    "version": 2
   },
   "file_extension": ".py",
   "mimetype": "text/x-python",
   "name": "python",
   "nbconvert_exporter": "python",
   "pygments_lexer": "ipython2",
   "version": "2.7.14"
  }
 },
 "nbformat": 4,
 "nbformat_minor": 2
}

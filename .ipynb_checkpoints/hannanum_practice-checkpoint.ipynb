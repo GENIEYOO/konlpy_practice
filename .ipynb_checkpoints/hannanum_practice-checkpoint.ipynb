{
 "cells": [
  {
   "cell_type": "code",
   "execution_count": 1,
   "metadata": {},
   "outputs": [
    {
     "name": "stdout",
     "output_type": "stream",
     "text": [
      "[[[('감튀', 'ncn'), ('는', 'jxc')],\n",
      "  [('감튀는', 'ncn')],\n",
      "  [('감튀', 'nqq'), ('는', 'jxc')],\n",
      "  [('감튀는', 'nqq')]],\n",
      " [[('맘스터치', 'ncn')], [('맘스터치', 'nqq')]],\n",
      " [[('.', 'sf')], [('.', 'sy')]],\n",
      " [],\n",
      " [[('갈릭감튀', 'ncn'), ('도', 'jxc')],\n",
      "  [('갈릭감튀도', 'ncn')],\n",
      "  [('갈릭감튀', 'nqq'), ('도', 'jxc')],\n",
      "  [('갈릭감튀도', 'nqq')]],\n",
      " [[('맛있', 'paa'), ('다', 'ef')], [('맛', 'ncn'), ('있', 'xsmn'), ('다', 'ef')]]]\n"
     ]
    }
   ],
   "source": [
    "from konlpy.tag import Hannanum\n",
    "from pprint import pprint\n",
    "#파이썬에서 리스트 예쁘게 출력하려면 pprint method\n",
    "hannanum = Hannanum()\n",
    "pprint(hannanum.analyze(u'감튀는 맘스터치. 갈릭감튀도 맛있다'))"
   ]
  },
  {
   "cell_type": "code",
   "execution_count": 2,
   "metadata": {},
   "outputs": [
    {
     "name": "stdout",
     "output_type": "stream",
     "text": [
      "[[[('감튀', 'ncn'), ('는', 'jxc')],\n",
      "  [('감튀는', 'ncn')],\n",
      "  [('감튀', 'nqq'), ('는', 'jxc')],\n",
      "  [('감튀는', 'nqq')]],\n",
      " [[('맘스터치', 'ncn')], [('맘스터치', 'nqq')]],\n",
      " [[('.', 'sf')], [('.', 'sy')]],\n",
      " [],\n",
      " [[('갈릭감튀', 'ncn'), ('도', 'jxc')],\n",
      "  [('갈릭감튀도', 'ncn')],\n",
      "  [('갈릭감튀', 'nqq'), ('도', 'jxc')],\n",
      "  [('갈릭감튀도', 'nqq')]],\n",
      " [[('맛있', 'paa'), ('다', 'ef')], [('맛', 'ncn'), ('있', 'xsmn'), ('다', 'ef')]]]\n"
     ]
    }
   ],
   "source": [
    "pprint(hannanum.analyze(u'감튀는 맘스터치. 갈릭감튀도 맛있다'))"
   ]
  },
  {
   "cell_type": "code",
   "execution_count": 12,
   "metadata": {},
   "outputs": [
    {
     "name": "stdout",
     "output_type": "stream",
     "text": [
      "['팔굽혀펴기']\n"
     ]
    }
   ],
   "source": [
    "pprint(hannanum.nouns('팔굽혀펴기는 쉽지 않아요'))"
   ]
  },
  {
   "cell_type": "code",
   "execution_count": 11,
   "metadata": {},
   "outputs": [
    {
     "name": "stdout",
     "output_type": "stream",
     "text": [
      "[('이', 'M'),\n",
      " ('드라마', 'N'),\n",
      " ('는', 'J'),\n",
      " ('내', 'N'),\n",
      " ('드라마', 'N'),\n",
      " ('가', 'J'),\n",
      " ('아니', 'M'),\n",
      " ('지만', 'J')]\n"
     ]
    }
   ],
   "source": [
    "pprint(hannanum.pos('이 드라마는 내 드라마가 아니지만'))"
   ]
  },
  {
   "cell_type": "code",
   "execution_count": 10,
   "metadata": {},
   "outputs": [
    {
     "name": "stdout",
     "output_type": "stream",
     "text": [
      "['대한민국', '주권', '은', '국민', '에게', '있', '다']\n"
     ]
    }
   ],
   "source": [
    "pprint(hannanum.morphs('대한민국 주권은 국민에게 있다'))"
   ]
  },
  {
   "cell_type": "code",
   "execution_count": 14,
   "metadata": {},
   "outputs": [],
   "source": [
    "# ananlyzer returns various morphological candidates"
   ]
  },
  {
   "cell_type": "code",
   "execution_count": null,
   "metadata": {
    "collapsed": true
   },
   "outputs": [],
   "source": []
  }
 ],
 "metadata": {
  "kernelspec": {
   "display_name": "Python 3",
   "language": "python",
   "name": "python3"
  },
  "language_info": {
   "codemirror_mode": {
    "name": "ipython",
    "version": 3
   },
   "file_extension": ".py",
   "mimetype": "text/x-python",
   "name": "python",
   "nbconvert_exporter": "python",
   "pygments_lexer": "ipython3",
   "version": "3.6.2"
  }
 },
 "nbformat": 4,
 "nbformat_minor": 2
}

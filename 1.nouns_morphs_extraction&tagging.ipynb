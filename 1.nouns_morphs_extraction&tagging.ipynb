{
 "cells": [
  {
   "cell_type": "code",
   "execution_count": 31,
   "metadata": {},
   "outputs": [
    {
     "data": {
      "text/plain": [
       "['constitution.txt']"
      ]
     },
     "execution_count": 31,
     "metadata": {},
     "output_type": "execute_result"
    }
   ],
   "source": [
    "from konlpy.corpus import kolaw\n",
    "kolaw.fileids()"
   ]
  },
  {
   "cell_type": "code",
   "execution_count": 32,
   "metadata": {},
   "outputs": [
    {
     "name": "stdout",
     "output_type": "stream",
     "text": [
      "대한민국헌법\n",
      "\n",
      "유구한 역사와 전통에 빛나는 우리 대한국민은 3·1운동으로 건립된 대한민국임시정부의 법통과 불의에 항거한 4·19민주이념을 계승하고, 조국의 민주개혁과 평화적 통일의\n"
     ]
    }
   ],
   "source": [
    "c = kolaw.open('constitution.txt').read()\n",
    "print(c[:100])"
   ]
  },
  {
   "cell_type": "code",
   "execution_count": 33,
   "metadata": {
    "collapsed": true
   },
   "outputs": [],
   "source": [
    "from konlpy.tag import *\n",
    "hannanum = Hannanum()\n",
    "kkma = Kkma()\n",
    "twitter = Twitter()"
   ]
  },
  {
   "cell_type": "code",
   "execution_count": 34,
   "metadata": {},
   "outputs": [
    {
     "data": {
      "text/plain": [
       "[(u'\\ub300\\ud55c\\ubbfc\\uad6d\\ud5cc\\ubc95', u'N'),\n",
       " (u'\\uc720\\uad6c', u'N'),\n",
       " (u'\\ud558', u'X'),\n",
       " (u'\\u3134', u'E'),\n",
       " (u'\\uc5ed\\uc0ac', u'N'),\n",
       " (u'\\uc640', u'J'),\n",
       " (u'\\uc804\\ud1b5', u'N'),\n",
       " (u'\\uc5d0', u'J'),\n",
       " (u'\\ube5b', u'N'),\n",
       " (u'\\ub098\\ub294', u'J'),\n",
       " (u'\\uc6b0\\ub9ac', u'N'),\n",
       " (u'\\ub300\\ud55c\\uad6d\\ubbfc', u'N'),\n",
       " (u'\\uc740', u'J'),\n",
       " (u'3\\xb71\\uc6b4\\ub3d9', u'N'),\n",
       " (u'\\uc73c\\ub85c', u'J'),\n",
       " (u'\\uac74\\ub9bd', u'N'),\n",
       " (u'\\ub418', u'X'),\n",
       " (u'\\u3134', u'E'),\n",
       " (u'\\ub300\\ud55c\\ubbfc\\uad6d\\uc784\\uc2dc\\uc815\\ubd80', u'N'),\n",
       " (u'\\uc758', u'J'),\n",
       " (u'\\ubc95\\ud1b5', u'N'),\n",
       " (u'\\uacfc', u'J'),\n",
       " (u'\\ubd88\\uc758', u'N'),\n",
       " (u'\\uc5d0', u'J'),\n",
       " (u'\\ud56d\\uac70', u'N')]"
      ]
     },
     "execution_count": 34,
     "metadata": {},
     "output_type": "execute_result"
    }
   ],
   "source": [
    "hannanum.pos(c[:65])\n",
    "#얜 또 왜 유니코드로"
   ]
  },
  {
   "cell_type": "code",
   "execution_count": 50,
   "metadata": {},
   "outputs": [
    {
     "name": "stdout",
     "output_type": "stream",
     "text": [
      "대한민국헌법N\n",
      "유구N\n",
      "하X\n",
      "ㄴE\n",
      "역사N\n",
      "와J\n",
      "전통N\n",
      "에J\n",
      "빛N\n",
      "나는J\n",
      "우리N\n",
      "대한국민N\n",
      "은J\n",
      "3·1운동N\n",
      "으로J\n",
      "건립N\n",
      "되X\n",
      "ㄴE\n",
      "대한민국임시정부N\n",
      "의J\n",
      "법통N\n",
      "과J\n",
      "불의N\n",
      "에J\n",
      "항거N\n"
     ]
    }
   ],
   "source": [
    "morph_list=hannanum.pos(c[:65])\n",
    "for i in morph_list:\n",
    "    print i[0] + i[1]"
   ]
  },
  {
   "cell_type": "code",
   "execution_count": 37,
   "metadata": {},
   "outputs": [
    {
     "name": "stdout",
     "output_type": "stream",
     "text": [
      "대한민국NNG\n",
      "헌법NNG\n",
      "유구NNG\n",
      "하XSV\n",
      "ㄴETD\n",
      "역사NNG\n",
      "와JC\n",
      "전통NNG\n",
      "에JKM\n",
      "빛나VV\n",
      "는ETD\n",
      "우리NNM\n",
      "대하VV\n",
      "ㄴETD\n",
      "국민NNG\n",
      "은JX\n",
      "3NR\n",
      "·SP\n",
      "1NR\n",
      "운동NNG\n",
      "으로JKM\n",
      "건립NNG\n",
      "되XSV\n",
      "ㄴETD\n",
      "대한민국NNG\n",
      "임시NNG\n",
      "정부NNG\n",
      "의JKG\n",
      "법통NNG\n",
      "과JC\n",
      "불의NNG\n",
      "에JKM\n",
      "항거NNG\n"
     ]
    }
   ],
   "source": [
    "H_list = kkma.pos(c[:65])\n",
    "for i in H_list:\n",
    "    print i[0]+i[1]\n",
    "#얘는 세 개라 튜플자료형에 들어있었다."
   ]
  },
  {
   "cell_type": "code",
   "execution_count": 41,
   "metadata": {},
   "outputs": [
    {
     "name": "stdout",
     "output_type": "stream",
     "text": [
      "대한민국Noun\n",
      "헌법Noun\n",
      "유구Noun\n",
      "한Josa\n",
      "역사Noun\n",
      "와Josa\n",
      "전통Noun\n",
      "에Josa\n",
      "빛나는Verb\n",
      "우리Noun\n",
      "대한Noun\n",
      "국민Noun\n",
      "은Josa\n",
      "3Number\n",
      "·Foreign\n",
      "1Number\n",
      "운동Noun\n",
      "으로Josa\n",
      "건립Noun\n",
      "된Verb\n",
      "대한민국Noun\n",
      "임시정부Noun\n",
      "의Josa\n",
      "법Noun\n",
      "통과Noun\n",
      "불의Noun\n",
      "에Josa\n",
      "항거Noun\n"
     ]
    }
   ],
   "source": [
    "t_list=twitter.pos(c[:65])\n",
    "for i in t_list:\n",
    "    print i[0]+i[1]"
   ]
  },
  {
   "cell_type": "markdown",
   "metadata": {},
   "source": [
    "1.nouns() : 명사뽑아내기\n",
    "2.morphs() : 형태소뽑아내기\n",
    "3.pos() : 태그뽑아내기"
   ]
  },
  {
   "cell_type": "code",
   "execution_count": null,
   "metadata": {
    "collapsed": true
   },
   "outputs": [],
   "source": []
  }
 ],
 "metadata": {
  "kernelspec": {
   "display_name": "Python 2",
   "language": "python",
   "name": "python2"
  },
  "language_info": {
   "codemirror_mode": {
    "name": "ipython",
    "version": 2
   },
   "file_extension": ".py",
   "mimetype": "text/x-python",
   "name": "python",
   "nbconvert_exporter": "python",
   "pygments_lexer": "ipython2",
   "version": "2.7.14"
  }
 },
 "nbformat": 4,
 "nbformat_minor": 2
}

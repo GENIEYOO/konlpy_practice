{
 "cells": [
  {
   "cell_type": "code",
   "execution_count": 1,
   "metadata": {
    "collapsed": true
   },
   "outputs": [],
   "source": [
    "from konlpy.tag import Kkma\n",
    "from konlpy.utils import pprint"
   ]
  },
  {
   "cell_type": "code",
   "execution_count": 2,
   "metadata": {},
   "outputs": [
    {
     "name": "stdout",
     "output_type": "stream",
     "text": [
      "[네, 안녕하세요.,\n",
      " 반갑습니다.]\n"
     ]
    }
   ],
   "source": [
    "kkma = Kkma()\n",
    "pprint(kkma.sentences(u'네, 안녕하세요.반갑습니다.'))"
   ]
  },
  {
   "cell_type": "code",
   "execution_count": 3,
   "metadata": {},
   "outputs": [
    {
     "name": "stdout",
     "output_type": "stream",
     "text": [
      "[질문,\n",
      " 건의,\n",
      " 건의사항,\n",
      " 사항,\n",
      " 깃헙,\n",
      " 이슈,\n",
      " 트래커]\n"
     ]
    }
   ],
   "source": [
    "pprint(kkma.nouns(u'질문이나 건의사항은 깃헙 이슈 트래커에 남겨주세요'))"
   ]
  },
  {
   "cell_type": "code",
   "execution_count": 5,
   "metadata": {},
   "outputs": [
    {
     "name": "stdout",
     "output_type": "stream",
     "text": [
      "[(자세히, MAG),\n",
      " (보, VV),\n",
      " (아야, ECD),\n",
      " (야, NNG),\n",
      " (예쁘, VA),\n",
      " (다, ECS),\n",
      " (너, NP),\n",
      " (도, JX),\n",
      " (그렇, VA),\n",
      " (다, EFN)]\n"
     ]
    }
   ],
   "source": [
    "pprint(kkma.pos(u'자세히 보야야 예쁘다 너도 그렇다'))"
   ]
  },
  {
   "cell_type": "code",
   "execution_count": 7,
   "metadata": {},
   "outputs": [
    {
     "name": "stdout",
     "output_type": "stream",
     "text": [
      "[(얄, NR),\n",
      " (리, NNM),\n",
      " (얄, NR),\n",
      " (리, NNM),\n",
      " (얄랑, XR),\n",
      " (셩, UN),\n",
      " (얄, NR),\n",
      " (라, NNG),\n",
      " (리얄, NNM),\n",
      " (라, NNG)]\n"
     ]
    }
   ],
   "source": [
    "pprint(kkma.pos(u'얄리얄리얄랑셩 얄라리얄라'))"
   ]
  },
  {
   "cell_type": "code",
   "execution_count": null,
   "metadata": {
    "collapsed": true
   },
   "outputs": [],
   "source": []
  }
 ],
 "metadata": {
  "kernelspec": {
   "display_name": "Python 2",
   "language": "python",
   "name": "python2"
  },
  "language_info": {
   "codemirror_mode": {
    "name": "ipython",
    "version": 2
   },
   "file_extension": ".py",
   "mimetype": "text/x-python",
   "name": "python",
   "nbconvert_exporter": "python",
   "pygments_lexer": "ipython2",
   "version": "2.7.14"
  }
 },
 "nbformat": 4,
 "nbformat_minor": 2
}

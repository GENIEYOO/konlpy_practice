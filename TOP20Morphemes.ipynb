{
 "cells": [
  {
   "cell_type": "markdown",
   "metadata": {},
   "source": [
    "TOP 20 Frequent morphemes"
   ]
  },
  {
   "cell_type": "code",
   "execution_count": 14,
   "metadata": {
    "collapsed": true
   },
   "outputs": [],
   "source": [
    "from collections import Counter"
   ]
  },
  {
   "cell_type": "code",
   "execution_count": 15,
   "metadata": {},
   "outputs": [],
   "source": [
    "from konlpy.corpus import kolaw\n",
    "from konlpy.tag import Hannanum\n",
    "from konlpy.utils import concordance, pprint\n",
    "from matplotlib import pyplot"
   ]
  },
  {
   "cell_type": "code",
   "execution_count": 1,
   "metadata": {},
   "outputs": [
    {
     "name": "stdout",
     "output_type": "stream",
     "text": [
      "nchars  : 18884\n",
      "ntokens : 4178\n",
      "nmorphs : 1499\n",
      "\n",
      "Top 20 frequent morphemes:\n",
      "[((의, J), 396),\n",
      " ((., S), 340),\n",
      " ((하, X), 291),\n",
      " ((에, J), 283),\n",
      " ((ㄴ다, E), 241),\n",
      " ((ㄴ, E), 223),\n",
      " ((이, J), 221),\n",
      " ((을, J), 211),\n",
      " ((은, J), 184),\n",
      " ((어, E), 176),\n",
      " ((를, J), 148),\n",
      " ((ㄹ, E), 134),\n",
      " ((하, P), 124),\n",
      " ((는, J), 117),\n",
      " ((법률, N), 115),\n",
      " ((,, S), 99),\n",
      " ((는, E), 97),\n",
      " ((있, P), 96),\n",
      " ((되, X), 94),\n",
      " ((수, N), 91)]\n",
      "\n",
      "Locations of \"대한민국\" in the document:\n",
      "0\t대한민국헌법 유구한 역사와\n",
      "9\t대한국민은 3·1운동으로 건립된 대한민국임시정부의 법통과 불의에\n",
      "98\t총강 제1조 ① 대한민국은 민주공화국이다. ②대한민국의\n",
      "100\t① 대한민국은 민주공화국이다. ②대한민국의 주권은 국민에게\n",
      "110\t나온다. 제2조 ① 대한민국의 국민이 되는\n",
      "126\t의무를 진다. 제3조 대한민국의 영토는 한반도와\n",
      "133\t부속도서로 한다. 제4조 대한민국은 통일을 지향하며,\n",
      "147\t추진한다. 제5조 ① 대한민국은 국제평화의 유지에\n",
      "787\t군무원이 아닌 국민은 대한민국의 영역안에서는 중대한\n",
      "1836\t파견 또는 외국군대의 대한민국 영역안에서의 주류에\n",
      "3620\t경제 제119조 ① 대한민국의 경제질서는 개인과\n"
     ]
    }
   ],
   "source": [
    "from collections import Counter\n",
    "\n",
    "from konlpy.corpus import kolaw\n",
    "from konlpy.tag import Hannanum\n",
    "from konlpy.utils import concordance, pprint\n",
    " #concordance : 일치하는 단어 찾기\n",
    "#pprint 예쁘게 출력\n",
    "from matplotlib import pyplot\n",
    "\n",
    "\n",
    "def draw_zipf(count_list, filename, color='blue', marker='o'):\n",
    "    sorted_list = sorted(count_list, reverse=True)\n",
    "    pyplot.plot(sorted_list, color=color, marker=marker)\n",
    "    pyplot.xscale('log')\n",
    "    pyplot.yscale('log')\n",
    "    pyplot.savefig(filename)\n",
    "\n",
    "\n",
    "doc = kolaw.open('constitution.txt').read()\n",
    "pos = Hannanum().pos(doc)\n",
    "cnt = Counter(pos)\n",
    "\n",
    "print 'nchars  :', len(doc)\n",
    "print 'ntokens :', len(doc.split())\n",
    "print 'nmorphs :', len(set(pos)) \n",
    "print '\\nTop 20 frequent morphemes:' ; pprint(cnt.most_common(20))\n",
    "print '\\nLocations of \"대한민국\" in the document:'\n",
    "concordance(u'대한민국', doc, show=True)\n",
    "\n",
    "draw_zipf(cnt.values(), 'zipf.png')\n",
    "\n",
    "#이거 왜 카운트를 못하냐"
   ]
  },
  {
   "cell_type": "markdown",
   "metadata": {},
   "source": [
    "일단 넘어가고 한 나눔 연습/데이터 사이언스 스쿨 참조"
   ]
  },
  {
   "cell_type": "code",
   "execution_count": 34,
   "metadata": {},
   "outputs": [
    {
     "data": {
      "text/plain": [
       "['constitution.txt']"
      ]
     },
     "execution_count": 34,
     "metadata": {},
     "output_type": "execute_result"
    }
   ],
   "source": [
    "from konlpy.corpus import kolaw\n",
    "kolaw.fileids()"
   ]
  },
  {
   "cell_type": "code",
   "execution_count": 35,
   "metadata": {
    "collapsed": true
   },
   "outputs": [],
   "source": [
    "c = kolaw.open('constitution.txt').read()"
   ]
  },
  {
   "cell_type": "code",
   "execution_count": 36,
   "metadata": {},
   "outputs": [
    {
     "name": "stdout",
     "output_type": "stream",
     "text": [
      "대한민국헌법\n",
      "\n",
      "유구한 역사와 전통에 빛나는 우리 대한국민은 3·1운동으로 건립된 대한민국임시정부의 법통과 불의에 항거한 4·19민주이념을 계승하고, 조국의 민주개혁과 평화적 통일의\n"
     ]
    }
   ],
   "source": [
    "print(c[:100])"
   ]
  },
  {
   "cell_type": "code",
   "execution_count": 37,
   "metadata": {
    "collapsed": true
   },
   "outputs": [],
   "source": [
    "from konlpy.corpus import kobill"
   ]
  },
  {
   "cell_type": "code",
   "execution_count": 38,
   "metadata": {},
   "outputs": [
    {
     "data": {
      "text/plain": [
       "['1809890.txt',\n",
       " '1809891.txt',\n",
       " '1809892.txt',\n",
       " '1809893.txt',\n",
       " '1809894.txt',\n",
       " '1809895.txt',\n",
       " '1809896.txt',\n",
       " '1809897.txt',\n",
       " '1809898.txt',\n",
       " '1809899.txt']"
      ]
     },
     "execution_count": 38,
     "metadata": {},
     "output_type": "execute_result"
    }
   ],
   "source": [
    "kobill.fileids()"
   ]
  },
  {
   "cell_type": "code",
   "execution_count": 41,
   "metadata": {},
   "outputs": [
    {
     "name": "stdout",
     "output_type": "stream",
     "text": [
      "하도급거래 공정화에 관한 법률 일부개정법률안\n",
      "\n",
      "(유선호의원 대표발의 )\n",
      "\n",
      " 의 안\n",
      " 번 호\n",
      "\n",
      "9895\n",
      "\n",
      "발의연월일 : 2010.  11.  15.\n",
      "\n",
      "발  의  자 : 유선호․강기갑\n"
     ]
    }
   ],
   "source": [
    "d = kobill.open('1809895.txt').read()\n",
    "print(d[:100])\n"
   ]
  },
  {
   "cell_type": "code",
   "execution_count": 49,
   "metadata": {
    "collapsed": true
   },
   "outputs": [],
   "source": [
    "from konlpy.tag import*\n",
    "hannanum = Hannanum()\n",
    "kkma = Kkma()\n",
    "twitter=Twitter()"
   ]
  },
  {
   "cell_type": "code",
   "execution_count": 51,
   "metadata": {},
   "outputs": [],
   "source": [
    "c = kolaw.open('constitution.txt').read()"
   ]
  },
  {
   "cell_type": "code",
   "execution_count": 52,
   "metadata": {},
   "outputs": [
    {
     "data": {
      "text/plain": [
       "[]"
      ]
     },
     "execution_count": 52,
     "metadata": {},
     "output_type": "execute_result"
    }
   ],
   "source": [
    "hannanum.morphs(c[:65])"
   ]
  },
  {
   "cell_type": "code",
   "execution_count": null,
   "metadata": {
    "collapsed": true
   },
   "outputs": [],
   "source": []
  },
  {
   "cell_type": "code",
   "execution_count": null,
   "metadata": {
    "collapsed": true
   },
   "outputs": [],
   "source": []
  },
  {
   "cell_type": "code",
   "execution_count": null,
   "metadata": {
    "collapsed": true
   },
   "outputs": [],
   "source": []
  },
  {
   "cell_type": "code",
   "execution_count": null,
   "metadata": {
    "collapsed": true
   },
   "outputs": [],
   "source": []
  },
  {
   "cell_type": "code",
   "execution_count": null,
   "metadata": {
    "collapsed": true
   },
   "outputs": [],
   "source": []
  },
  {
   "cell_type": "code",
   "execution_count": null,
   "metadata": {
    "collapsed": true
   },
   "outputs": [],
   "source": []
  },
  {
   "cell_type": "code",
   "execution_count": null,
   "metadata": {
    "collapsed": true
   },
   "outputs": [],
   "source": []
  },
  {
   "cell_type": "code",
   "execution_count": null,
   "metadata": {
    "collapsed": true
   },
   "outputs": [],
   "source": []
  },
  {
   "cell_type": "code",
   "execution_count": null,
   "metadata": {
    "collapsed": true
   },
   "outputs": [],
   "source": []
  },
  {
   "cell_type": "code",
   "execution_count": null,
   "metadata": {
    "collapsed": true
   },
   "outputs": [],
   "source": []
  }
 ],
 "metadata": {
  "anaconda-cloud": {},
  "kernelspec": {
   "display_name": "Python 2",
   "language": "python",
   "name": "python2"
  },
  "language_info": {
   "codemirror_mode": {
    "name": "ipython",
    "version": 2
   },
   "file_extension": ".py",
   "mimetype": "text/x-python",
   "name": "python",
   "nbconvert_exporter": "python",
   "pygments_lexer": "ipython2",
   "version": "2.7.14"
  }
 },
 "nbformat": 4,
 "nbformat_minor": 1
}
